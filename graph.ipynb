{
 "cells": [
  {
   "cell_type": "code",
   "execution_count": 9,
   "metadata": {},
   "outputs": [
    {
     "name": "stdout",
     "output_type": "stream",
     "text": [
      "DFS traversal path: ['A', 'C', 'F', 'B', 'E', 'H', 'G', 'D']\n"
     ]
    }
   ],
   "source": [
    "def dfs(graph, start):\n",
    "    visited = set()\n",
    "    stack = [(start, [start])]  # Stack stores (node, path)\n",
    "    traversal_path = []\n",
    "\n",
    "    while stack:\n",
    "        current, path = stack.pop()\n",
    "        if current not in visited:\n",
    "            visited.add(current)\n",
    "            for neighbor in graph[current]:\n",
    "                if neighbor not in visited:\n",
    "                    stack.append((neighbor, path + [neighbor]))\n",
    "            traversal_path.append(current)  # Append the current node after checking visited status\n",
    "\n",
    "    return traversal_path\n",
    "\n",
    "# Example graph represented as an adjacency list\n",
    "graph = {\n",
    "    'A': ['B', 'C','D','E','F'],\n",
    "    'B': ['A', 'C','D', 'E'],\n",
    "    'C': ['A', 'B','D','E','G','H'],\n",
    "    'D': ['A','B','C','F','G','H'],\n",
    "    'E': ['A','B','C','H','I'],\n",
    "    'F': ['A','C','D','G','H'],\n",
    "    'G': ['C','D','F','H'],\n",
    "    'H': ['C','D','E','F','G'],\n",
    "    'I': ['E']\n",
    "}\n",
    "\n",
    "start_node = 'A'\n",
    "print(\"DFS traversal path:\", dfs(graph, start_node))\n"
   ]
  },
  {
   "cell_type": "code",
   "execution_count": 11,
   "metadata": {},
   "outputs": [
    {
     "name": "stdout",
     "output_type": "stream",
     "text": [
      "['A', 'B', 'D', 'B', 'E', 'G', 'E', 'H', 'E', 'B', 'A', 'C', 'F', 'C', 'A']\n"
     ]
    }
   ],
   "source": [
    "def dfs(graph, node, visited, path):\n",
    "    # Visit the node\n",
    "    path.append(node)\n",
    "    visited.add(node)\n",
    "    \n",
    "    # Visit all unvisited neighbors\n",
    "    for neighbor in graph[node]:\n",
    "        if neighbor not in visited:\n",
    "            dfs(graph, neighbor, visited, path)\n",
    "            # Backtrack\n",
    "            path.append(node)\n",
    "\n",
    "def dfs_traversal(graph, start):\n",
    "    visited = set()\n",
    "    path = []\n",
    "    dfs(graph, start, visited, path)\n",
    "    return path\n",
    "\n",
    "# Example usage\n",
    "graph = {\n",
    "    'A': ['B', 'C'],\n",
    "    'B': ['A', 'D', 'E'],\n",
    "    'C': ['A', 'F'],\n",
    "    'D': ['B'],\n",
    "    'E': ['B', 'G', 'H'],\n",
    "    'F': ['C'],\n",
    "    'G': ['E'],\n",
    "    'H': ['E']\n",
    "}\n",
    "\n",
    "start_node = 'A'\n",
    "result_path = dfs_traversal(graph, start_node)\n",
    "print(result_path)  # Output: ['A', 'B', 'C', 'B', 'A', 'D']\n"
   ]
  }
 ],
 "metadata": {
  "kernelspec": {
   "display_name": "Python 3",
   "language": "python",
   "name": "python3"
  },
  "language_info": {
   "codemirror_mode": {
    "name": "ipython",
    "version": 3
   },
   "file_extension": ".py",
   "mimetype": "text/x-python",
   "name": "python",
   "nbconvert_exporter": "python",
   "pygments_lexer": "ipython3",
   "version": "3.11.7"
  }
 },
 "nbformat": 4,
 "nbformat_minor": 2
}
