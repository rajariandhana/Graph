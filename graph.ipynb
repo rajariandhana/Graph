{
 "cells": [
  {
   "cell_type": "code",
   "execution_count": 17,
   "metadata": {},
   "outputs": [
    {
     "name": "stdout",
     "output_type": "stream",
     "text": [
      "DFS traversal path: ['A', 'C', 'F', 'B', 'E', 'H', 'G', 'D']\n"
     ]
    }
   ],
   "source": []
  },
  {
   "cell_type": "code",
   "execution_count": 18,
   "metadata": {},
   "outputs": [
    {
     "name": "stdout",
     "output_type": "stream",
     "text": [
      "['A', 'B', 'C', 'B', 'A', 'D', 'A']\n"
     ]
    }
   ],
   "source": [
    "def dfs(graph, node, visited, path):\n",
    "    # Visit the node\n",
    "    path.append(node)\n",
    "    visited.add(node)\n",
    "    \n",
    "    # Visit all unvisited neighbors\n",
    "    for neighbor in graph[node]:\n",
    "        if neighbor not in visited:\n",
    "            dfs(graph, neighbor, visited, path)\n",
    "            # Backtrack\n",
    "            path.append(node)\n",
    "\n",
    "def dfs_traversal(graph, start):\n",
    "    visited = set()\n",
    "    path = []\n",
    "    dfs(graph, start, visited, path)\n",
    "    return path\n",
    "\n",
    "# Example usage\n",
    "graph = {\n",
    "    'A': ['B', 'D'],\n",
    "    'B': ['A', 'C'],\n",
    "    'C': ['B'],\n",
    "    'D': ['A']\n",
    "}\n",
    "\n",
    "start_node = 'A'\n",
    "result_path = dfs_traversal(graph, start_node)\n",
    "print(result_path)  # Output: ['A', 'B', 'C', 'B', 'A', 'D']\n"
   ]
  }
 ],
 "metadata": {
  "kernelspec": {
   "display_name": "Python 3",
   "language": "python",
   "name": "python3"
  },
  "language_info": {
   "codemirror_mode": {
    "name": "ipython",
    "version": 3
   },
   "file_extension": ".py",
   "mimetype": "text/x-python",
   "name": "python",
   "nbconvert_exporter": "python",
   "pygments_lexer": "ipython3",
   "version": "3.11.7"
  }
 },
 "nbformat": 4,
 "nbformat_minor": 2
}
